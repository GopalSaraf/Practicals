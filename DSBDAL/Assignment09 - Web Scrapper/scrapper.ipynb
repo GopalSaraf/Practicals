{
 "cells": [
  {
   "cell_type": "code",
   "execution_count": 1,
   "id": "d3acd5de",
   "metadata": {},
   "outputs": [],
   "source": [
    "import requests\n",
    "from bs4 import BeautifulSoup as bs\n",
    "import pandas as pd"
   ]
  },
  {
   "cell_type": "code",
   "execution_count": 2,
   "id": "d9782e9b",
   "metadata": {},
   "outputs": [],
   "source": [
    "link = \"https://www.amazon.in/Apple-iPhone-14-128GB-Midnight/product-reviews/B0BDHX8Z63/ref=cm_cr_dp_d_show_all_btm?ie=UTF8&reviewerType=all_reviews\""
   ]
  },
  {
   "cell_type": "code",
   "execution_count": 3,
   "id": "78fe3fa3",
   "metadata": {},
   "outputs": [],
   "source": [
    "headers = {\n",
    "    \"User-Agent\": \"Mozilla/5.0 (Macintosh; Intel Mac OS X 10_15_7) AppleWebKit/537.36 (KHTML, like Gecko) Chrome/124.0.0.0 Safari/537.36\"\n",
    "}\n",
    "\n",
    "page = requests.get(link, headers=headers)"
   ]
  },
  {
   "cell_type": "code",
   "execution_count": 4,
   "id": "552c5b78",
   "metadata": {},
   "outputs": [],
   "source": [
    "soup = bs(page.content, \"html.parser\")"
   ]
  },
  {
   "cell_type": "code",
   "execution_count": 5,
   "id": "0f87bd60",
   "metadata": {},
   "outputs": [],
   "source": [
    "names = soup.find_all(\"span\", class_=\"a-profile-name\")"
   ]
  },
  {
   "cell_type": "code",
   "execution_count": 6,
   "id": "0dd230c2",
   "metadata": {},
   "outputs": [
    {
     "data": {
      "text/plain": [
       "[<span class=\"a-profile-name\">Prasanna</span>,\n",
       " <span class=\"a-profile-name\">Vivek</span>,\n",
       " <span class=\"a-profile-name\">Prasanna</span>,\n",
       " <span class=\"a-profile-name\">Vaishnavi Nelabotla</span>,\n",
       " <span class=\"a-profile-name\">Vaishnavi Nelabotla</span>,\n",
       " <span class=\"a-profile-name\">Jayakrishnan</span>,\n",
       " <span class=\"a-profile-name\">Marvellous </span>,\n",
       " <span class=\"a-profile-name\">Marvellous </span>,\n",
       " <span class=\"a-profile-name\">Lalneo</span>,\n",
       " <span class=\"a-profile-name\">Lalneo</span>,\n",
       " <span class=\"a-profile-name\">Purshottam Das Anand</span>,\n",
       " <span class=\"a-profile-name\">Shatrughan Budhauliya</span>,\n",
       " <span class=\"a-profile-name\">Nabi ullah khan</span>,\n",
       " <span class=\"a-profile-name\">Nabi ullah khan</span>,\n",
       " <span class=\"a-profile-name\">Akshat Sharma</span>,\n",
       " <span class=\"a-profile-name\">MWO SK SINGH</span>]"
      ]
     },
     "execution_count": 6,
     "metadata": {},
     "output_type": "execute_result"
    }
   ],
   "source": [
    "names"
   ]
  },
  {
   "cell_type": "code",
   "execution_count": 7,
   "id": "06832a79",
   "metadata": {},
   "outputs": [
    {
     "data": {
      "text/plain": [
       "['Prasanna',\n",
       " 'Vivek',\n",
       " 'Prasanna',\n",
       " 'Vaishnavi Nelabotla',\n",
       " 'Vaishnavi Nelabotla',\n",
       " 'Jayakrishnan',\n",
       " 'Marvellous ',\n",
       " 'Marvellous ',\n",
       " 'Lalneo',\n",
       " 'Lalneo',\n",
       " 'Purshottam Das Anand',\n",
       " 'Shatrughan Budhauliya',\n",
       " 'Nabi ullah khan',\n",
       " 'Nabi ullah khan',\n",
       " 'Akshat Sharma',\n",
       " 'MWO SK SINGH']"
      ]
     },
     "execution_count": 7,
     "metadata": {},
     "output_type": "execute_result"
    }
   ],
   "source": [
    "# Extracting customer names\n",
    "cust_name = []\n",
    "\n",
    "for i in range(len(names)):\n",
    "    cust_name.append(names[i].get_text())\n",
    "\n",
    "cust_name"
   ]
  },
  {
   "cell_type": "code",
   "execution_count": 8,
   "id": "7966f1c5",
   "metadata": {},
   "outputs": [
    {
     "data": {
      "text/plain": [
       "16"
      ]
     },
     "execution_count": 8,
     "metadata": {},
     "output_type": "execute_result"
    }
   ],
   "source": [
    "len(cust_name)"
   ]
  },
  {
   "cell_type": "code",
   "execution_count": 9,
   "id": "f2a8156a",
   "metadata": {},
   "outputs": [],
   "source": [
    "# Extracting Review title.\n",
    "title = soup.find_all(\"a\", class_=\"review-title-content\")"
   ]
  },
  {
   "cell_type": "code",
   "execution_count": 10,
   "id": "29f2e11f",
   "metadata": {
    "scrolled": true
   },
   "outputs": [
    {
     "data": {
      "text/plain": [
       "[<a class=\"a-size-base a-link-normal review-title a-color-base review-title-content a-text-bold\" data-hook=\"review-title\" href=\"/gp/customer-reviews/R3QN7WHCT1NEQA/ref=cm_cr_arp_d_rvw_ttl?ie=UTF8&amp;ASIN=B0BDHX8Z63\"><i class=\"a-icon a-icon-star a-star-5 review-rating\" data-hook=\"review-star-rating\"><span class=\"a-icon-alt\">5.0 out of 5 stars</span></i><span class=\"a-letter-space\"></span>\n",
       " <span>Exceeding my expectation. Go for it.</span>\n",
       " </a>,\n",
       " <a class=\"a-size-base a-link-normal review-title a-color-base review-title-content a-text-bold\" data-hook=\"review-title\" href=\"/gp/customer-reviews/R30Q0WNRQPM0PW/ref=cm_cr_arp_d_rvw_ttl?ie=UTF8&amp;ASIN=B0BDHX8Z63\"><i class=\"a-icon a-icon-star a-star-5 review-rating\" data-hook=\"review-star-rating\"><span class=\"a-icon-alt\">5.0 out of 5 stars</span></i><span class=\"a-letter-space\"></span>\n",
       " <span>Loved it ❤️</span>\n",
       " </a>,\n",
       " <a class=\"a-size-base a-link-normal review-title a-color-base review-title-content a-text-bold\" data-hook=\"review-title\" href=\"/gp/customer-reviews/R26S7FGQM0SOKO/ref=cm_cr_arp_d_rvw_ttl?ie=UTF8&amp;ASIN=B0BDHX8Z63\"><i class=\"a-icon a-icon-star a-star-4 review-rating\" data-hook=\"review-star-rating\"><span class=\"a-icon-alt\">4.0 out of 5 stars</span></i><span class=\"a-letter-space\"></span>\n",
       " <span>It's visually appealing and upgraded device, surpassing my old iPhone 12</span>\n",
       " </a>,\n",
       " <a class=\"a-size-base a-link-normal review-title a-color-base review-title-content a-text-bold\" data-hook=\"review-title\" href=\"/gp/customer-reviews/R1Z2UDP5DZXS2F/ref=cm_cr_arp_d_rvw_ttl?ie=UTF8&amp;ASIN=B0BDHX8Z63\"><i class=\"a-icon a-icon-star a-star-5 review-rating\" data-hook=\"review-star-rating\"><span class=\"a-icon-alt\">5.0 out of 5 stars</span></i><span class=\"a-letter-space\"></span>\n",
       " <span>Iphone 14</span>\n",
       " </a>,\n",
       " <a class=\"a-size-base a-link-normal review-title a-color-base review-title-content a-text-bold\" data-hook=\"review-title\" href=\"/gp/customer-reviews/R36R1NMWBPZ0KB/ref=cm_cr_arp_d_rvw_ttl?ie=UTF8&amp;ASIN=B0BDHX8Z63\"><i class=\"a-icon a-icon-star a-star-5 review-rating\" data-hook=\"review-star-rating\"><span class=\"a-icon-alt\">5.0 out of 5 stars</span></i><span class=\"a-letter-space\"></span>\n",
       " <span>Amaze me</span>\n",
       " </a>,\n",
       " <a class=\"a-size-base a-link-normal review-title a-color-base review-title-content a-text-bold\" data-hook=\"review-title\" href=\"/gp/customer-reviews/R1W8X094QW6D22/ref=cm_cr_arp_d_rvw_ttl?ie=UTF8&amp;ASIN=B0BDHX8Z63\"><i class=\"a-icon a-icon-star a-star-5 review-rating\" data-hook=\"review-star-rating\"><span class=\"a-icon-alt\">5.0 out of 5 stars</span></i><span class=\"a-letter-space\"></span>\n",
       " <span>Nice apple iPhone 14</span>\n",
       " </a>,\n",
       " <a class=\"a-size-base a-link-normal review-title a-color-base review-title-content a-text-bold\" data-hook=\"review-title\" href=\"/gp/customer-reviews/R3N30WJWDTGYBY/ref=cm_cr_arp_d_rvw_ttl?ie=UTF8&amp;ASIN=B0BDHX8Z63\"><i class=\"a-icon a-icon-star a-star-5 review-rating\" data-hook=\"review-star-rating\"><span class=\"a-icon-alt\">5.0 out of 5 stars</span></i><span class=\"a-letter-space\"></span>\n",
       " <span>Best</span>\n",
       " </a>,\n",
       " <a class=\"a-size-base a-link-normal review-title a-color-base review-title-content a-text-bold\" data-hook=\"review-title\" href=\"/gp/customer-reviews/R12B1CXZ80HDZG/ref=cm_cr_arp_d_rvw_ttl?ie=UTF8&amp;ASIN=B0BDHX8Z63\"><i class=\"a-icon a-icon-star a-star-4 review-rating\" data-hook=\"review-star-rating\"><span class=\"a-icon-alt\">4.0 out of 5 stars</span></i><span class=\"a-letter-space\"></span>\n",
       " <span>Awesome phone</span>\n",
       " </a>,\n",
       " <a class=\"a-size-base a-link-normal review-title a-color-base review-title-content a-text-bold\" data-hook=\"review-title\" href=\"/gp/customer-reviews/RYXD7EG86HHX3/ref=cm_cr_arp_d_rvw_ttl?ie=UTF8&amp;ASIN=B0BDHX8Z63\"><i class=\"a-icon a-icon-star a-star-4 review-rating\" data-hook=\"review-star-rating\"><span class=\"a-icon-alt\">4.0 out of 5 stars</span></i><span class=\"a-letter-space\"></span>\n",
       " <span>All that glitters is not gold</span>\n",
       " </a>,\n",
       " <a class=\"a-size-base a-link-normal review-title a-color-base review-title-content a-text-bold\" data-hook=\"review-title\" href=\"/gp/customer-reviews/R30MKJNPTNZN09/ref=cm_cr_arp_d_rvw_ttl?ie=UTF8&amp;ASIN=B0BDHX8Z63\"><i class=\"a-icon a-icon-star a-star-4 review-rating\" data-hook=\"review-star-rating\"><span class=\"a-icon-alt\">4.0 out of 5 stars</span></i><span class=\"a-letter-space\"></span>\n",
       " <span>Review</span>\n",
       " </a>]"
      ]
     },
     "execution_count": 10,
     "metadata": {},
     "output_type": "execute_result"
    }
   ],
   "source": [
    "title"
   ]
  },
  {
   "cell_type": "code",
   "execution_count": 11,
   "id": "7e903f67",
   "metadata": {
    "scrolled": true
   },
   "outputs": [
    {
     "data": {
      "text/plain": [
       "['5.0 out of 5 stars\\nExceeding my expectation. Go for it.\\n',\n",
       " '5.0 out of 5 stars\\nLoved it ❤️\\n',\n",
       " \"4.0 out of 5 stars\\nIt's visually appealing and upgraded device, surpassing my old iPhone 12\\n\",\n",
       " '5.0 out of 5 stars\\nIphone 14\\n',\n",
       " '5.0 out of 5 stars\\nAmaze me\\n',\n",
       " '5.0 out of 5 stars\\nNice apple iPhone 14\\n',\n",
       " '5.0 out of 5 stars\\nBest\\n',\n",
       " '4.0 out of 5 stars\\nAwesome phone\\n',\n",
       " '4.0 out of 5 stars\\nAll that glitters is not gold\\n',\n",
       " '4.0 out of 5 stars\\nReview\\n']"
      ]
     },
     "execution_count": 11,
     "metadata": {},
     "output_type": "execute_result"
    }
   ],
   "source": [
    "review_title = []\n",
    "\n",
    "for i in range(len(title)):\n",
    "    review_title.append(title[i].get_text())\n",
    "\n",
    "review_title"
   ]
  },
  {
   "cell_type": "code",
   "execution_count": 12,
   "id": "26ffafda",
   "metadata": {},
   "outputs": [
    {
     "data": {
      "text/plain": [
       "['5.0 out of 5 stars\\nExceeding my expectation. Go for it.\\n',\n",
       " '5.0 out of 5 stars\\nLoved it ❤️\\n',\n",
       " \"4.0 out of 5 stars\\nIt's visually appealing and upgraded device, surpassing my old iPhone 12\\n\",\n",
       " '5.0 out of 5 stars\\nIphone 14\\n',\n",
       " '5.0 out of 5 stars\\nAmaze me\\n',\n",
       " '5.0 out of 5 stars\\nNice apple iPhone 14\\n',\n",
       " '5.0 out of 5 stars\\nBest\\n',\n",
       " '4.0 out of 5 stars\\nAwesome phone\\n',\n",
       " '4.0 out of 5 stars\\nAll that glitters is not gold\\n',\n",
       " '4.0 out of 5 stars\\nReview\\n']"
      ]
     },
     "execution_count": 12,
     "metadata": {},
     "output_type": "execute_result"
    }
   ],
   "source": [
    "review_title[:] = [titles.lstrip(\"\\n\") for titles in review_title]\n",
    "review_title"
   ]
  },
  {
   "cell_type": "code",
   "execution_count": 13,
   "id": "a652f257",
   "metadata": {
    "scrolled": false
   },
   "outputs": [
    {
     "data": {
      "text/plain": [
       "['5.0 out of 5 stars\\nExceeding my expectation. Go for it.',\n",
       " '5.0 out of 5 stars\\nLoved it ❤️',\n",
       " \"4.0 out of 5 stars\\nIt's visually appealing and upgraded device, surpassing my old iPhone 12\",\n",
       " '5.0 out of 5 stars\\nIphone 14',\n",
       " '5.0 out of 5 stars\\nAmaze me',\n",
       " '5.0 out of 5 stars\\nNice apple iPhone 14',\n",
       " '5.0 out of 5 stars\\nBest',\n",
       " '4.0 out of 5 stars\\nAwesome phone',\n",
       " '4.0 out of 5 stars\\nAll that glitters is not gold',\n",
       " '4.0 out of 5 stars\\nReview']"
      ]
     },
     "execution_count": 13,
     "metadata": {},
     "output_type": "execute_result"
    }
   ],
   "source": [
    "review_title[:] = [titles.rstrip(\"\\n\") for titles in review_title]\n",
    "review_title"
   ]
  },
  {
   "cell_type": "code",
   "execution_count": 14,
   "id": "fb256d2d",
   "metadata": {},
   "outputs": [
    {
     "data": {
      "text/plain": [
       "10"
      ]
     },
     "execution_count": 14,
     "metadata": {},
     "output_type": "execute_result"
    }
   ],
   "source": [
    "len(review_title)"
   ]
  },
  {
   "cell_type": "code",
   "execution_count": 15,
   "id": "5760841e",
   "metadata": {
    "scrolled": true
   },
   "outputs": [
    {
     "data": {
      "text/plain": [
       "[<i class=\"a-icon a-icon-star a-star-5 review-rating\" data-hook=\"review-star-rating-view-point\"><span class=\"a-icon-alt\">5.0 out of 5 stars</span></i>,\n",
       " <i class=\"a-icon a-icon-star a-star-3 review-rating\" data-hook=\"review-star-rating-view-point\"><span class=\"a-icon-alt\">3.0 out of 5 stars</span></i>,\n",
       " <i class=\"a-icon a-icon-star a-star-5 review-rating\" data-hook=\"review-star-rating\"><span class=\"a-icon-alt\">5.0 out of 5 stars</span></i>,\n",
       " <i class=\"a-icon a-icon-star a-star-5 review-rating\" data-hook=\"review-star-rating\"><span class=\"a-icon-alt\">5.0 out of 5 stars</span></i>,\n",
       " <i class=\"a-icon a-icon-star a-star-4 review-rating\" data-hook=\"review-star-rating\"><span class=\"a-icon-alt\">4.0 out of 5 stars</span></i>,\n",
       " <i class=\"a-icon a-icon-star a-star-5 review-rating\" data-hook=\"review-star-rating\"><span class=\"a-icon-alt\">5.0 out of 5 stars</span></i>,\n",
       " <i class=\"a-icon a-icon-star a-star-5 review-rating\" data-hook=\"review-star-rating\"><span class=\"a-icon-alt\">5.0 out of 5 stars</span></i>,\n",
       " <i class=\"a-icon a-icon-star a-star-5 review-rating\" data-hook=\"review-star-rating\"><span class=\"a-icon-alt\">5.0 out of 5 stars</span></i>,\n",
       " <i class=\"a-icon a-icon-star a-star-5 review-rating\" data-hook=\"review-star-rating\"><span class=\"a-icon-alt\">5.0 out of 5 stars</span></i>,\n",
       " <i class=\"a-icon a-icon-star a-star-4 review-rating\" data-hook=\"review-star-rating\"><span class=\"a-icon-alt\">4.0 out of 5 stars</span></i>,\n",
       " <i class=\"a-icon a-icon-star a-star-4 review-rating\" data-hook=\"review-star-rating\"><span class=\"a-icon-alt\">4.0 out of 5 stars</span></i>,\n",
       " <i class=\"a-icon a-icon-star a-star-4 review-rating\" data-hook=\"review-star-rating\"><span class=\"a-icon-alt\">4.0 out of 5 stars</span></i>]"
      ]
     },
     "execution_count": 15,
     "metadata": {},
     "output_type": "execute_result"
    }
   ],
   "source": [
    "rating = soup.find_all(\"i\", class_=\"review-rating\")\n",
    "rating"
   ]
  },
  {
   "cell_type": "code",
   "execution_count": 16,
   "id": "93402a2a",
   "metadata": {
    "scrolled": false
   },
   "outputs": [
    {
     "data": {
      "text/plain": [
       "['5.0 out of 5 stars',\n",
       " '3.0 out of 5 stars',\n",
       " '5.0 out of 5 stars',\n",
       " '5.0 out of 5 stars',\n",
       " '4.0 out of 5 stars',\n",
       " '5.0 out of 5 stars',\n",
       " '5.0 out of 5 stars',\n",
       " '5.0 out of 5 stars',\n",
       " '5.0 out of 5 stars',\n",
       " '4.0 out of 5 stars',\n",
       " '4.0 out of 5 stars',\n",
       " '4.0 out of 5 stars']"
      ]
     },
     "execution_count": 16,
     "metadata": {},
     "output_type": "execute_result"
    }
   ],
   "source": [
    "rate = []\n",
    "\n",
    "for i in range(len(rating)):\n",
    "    rate.append(rating[i].get_text())\n",
    "\n",
    "rate"
   ]
  },
  {
   "cell_type": "code",
   "execution_count": 17,
   "id": "d9066543",
   "metadata": {},
   "outputs": [
    {
     "data": {
      "text/plain": [
       "12"
      ]
     },
     "execution_count": 17,
     "metadata": {},
     "output_type": "execute_result"
    }
   ],
   "source": [
    "len(rate)"
   ]
  },
  {
   "cell_type": "code",
   "execution_count": 18,
   "id": "bc7bdd4f",
   "metadata": {
    "scrolled": true
   },
   "outputs": [
    {
     "data": {
      "text/plain": [
       "[<span class=\"a-size-base review-text review-text-content\" data-hook=\"review-body\">\n",
       " <span>About the phone<br/>Apple phone without a second delay, I would say it is better than all android phones I have used. The phone is like water, it flows in a way you want and shaping in your way. In a best way possible, the phone is designed to only show what the user wants and eliminating unnecessary ads, features that I have seen in android.<br/><br/>Why it is better than Android?<br/>You pay too much money for Apple products, obviously you experience the features, physical components , camera lens etc. Apart from basic things, you can also enjoy the best applications available in app store. If you are a developer you might know the app store policy for application publish and their security posture towards handling payment apps etc. They publish best application and the way the apps, its modules switches is just flawless. Due to the so called strict policy of privacy program with Apple products, iPhone can pop up a box in your screen if any apps wants to track your activity with other applications. +1 respect for apple to show such concern with user.<br/><br/>Apple phones are same ? like 13 vs 14<br/>The reason 14 is same as 13 may be business practice followed from 11th edition. But please note that iPhone making changes internally like physical components (small change in battery performance, lens in 14 edition), additional features but that may not satisfy you to buy 14 edition. If you do not find \"the very few changes\" interesting in 14,  go for 13. Because physical and even cameras are not visually very much different in 13 vs 14 comparison. Also you get 13 for cheap :)<br/>14 is just added features but that is not for daily use, the features real time use is rare case. But the best part is there is no extra cost between 13 vs 14 prices (except extra 10k slash)<br/><br/>Concern you must have.<br/>Apple is not giving chargers and their silicon cases are very expensive (but very good in touch and scratch friendly in back due to silk layer). This is an issue for sure. You have to buy charger not coming with USB C and claiming that you help carbon footprint, understandable but not customer friendly business model. Even after the purchase I had to spend at least 7k for charger and case.<br/><br/>Apple care.<br/>I am not buying it, I pay for phone which is already expensive for this premium and apple care does have strict policy that if you understand that is waste. Instead I find a private insurance to make things better.</span>\n",
       " </span>,\n",
       " <span class=\"a-size-base review-text review-text-content\" data-hook=\"review-body\">\n",
       " <span>Buying an iphone with my first salary is the dream i manifested it and it happened. I’m writing this review after 8 months. Camera quality everything is good. There is nothing to say about iphone the best always ❤️. But what i observed is after IOS 17 battery started to drain like for 2 days one percent is dropping after that it stopped.Now my battery health is 93%. This is the only concern with iphone remaining all aspects it is worth the money.</span>\n",
       " </span>,\n",
       " <span class=\"a-size-base review-text review-text-content\" data-hook=\"review-body\">\n",
       " <span>Pros:<br><br/>  Good Looking (4/5): The Blue color variant adds to the aesthetic appeal, making the iPhone 14 an eye-catching device.<br/><br/>  Better than iPhone 12 (4/5): The iPhone 14 exhibits improvements over the iPhone 12, contributing to an enhanced user experience.<br/><br/>  Good Camera (4/5): The camera performance is commendable, capturing high-quality images and enhancing the overall photography experience.<br/><br/>In summary, the Apple iPhone 14 in Blue is a solid choice, offering a sleek design, improved features compared to the iPhone 12, and a reliable camera for capturing memorable moments.</br></span>\n",
       " </span>,\n",
       " <span class=\"a-size-base review-text review-text-content\" data-hook=\"review-body\">\n",
       " <span>Good product</span>\n",
       " </span>,\n",
       " <span class=\"a-size-base review-text review-text-content\" data-hook=\"review-body\">\n",
       " <span>First time iPhone user like me amazed by iPhone 14. Its battery to camera and security settings are amazing. Go for iPhone 14 than other model. Prize and features …</span>\n",
       " </span>,\n",
       " <span class=\"a-size-base review-text review-text-content\" data-hook=\"review-body\">\n",
       " <span>.</span>\n",
       " </span>,\n",
       " <span class=\"a-size-base review-text review-text-content\" data-hook=\"review-body\">\n",
       " <span>Safely delivered</span>\n",
       " </span>,\n",
       " <span class=\"a-size-base review-text review-text-content\" data-hook=\"review-body\">\n",
       " <span>I gifted this to my wife she was really happy to see this phone and the blue colour is Amazing</span>\n",
       " </span>,\n",
       " <span class=\"a-size-base review-text review-text-content\" data-hook=\"review-body\">\n",
       " <span>It’s a good phone but don’t think that it’s perfect. It has its own problems.</span>\n",
       " </span>,\n",
       " <span class=\"a-size-base review-text review-text-content\" data-hook=\"review-body\">\n",
       " <span>Security features</span>\n",
       " </span>]"
      ]
     },
     "execution_count": 18,
     "metadata": {},
     "output_type": "execute_result"
    }
   ],
   "source": [
    "review = soup.find_all(\"span\", {\"data-hook\": \"review-body\"})\n",
    "review"
   ]
  },
  {
   "cell_type": "code",
   "execution_count": 19,
   "id": "b467f8f9",
   "metadata": {
    "scrolled": true
   },
   "outputs": [
    {
     "data": {
      "text/plain": [
       "['\\nAbout the phoneApple phone without a second delay, I would say it is better than all android phones I have used. The phone is like water, it flows in a way you want and shaping in your way. In a best way possible, the phone is designed to only show what the user wants and eliminating unnecessary ads, features that I have seen in android.Why it is better than Android?You pay too much money for Apple products, obviously you experience the features, physical components , camera lens etc. Apart from basic things, you can also enjoy the best applications available in app store. If you are a developer you might know the app store policy for application publish and their security posture towards handling payment apps etc. They publish best application and the way the apps, its modules switches is just flawless. Due to the so called strict policy of privacy program with Apple products, iPhone can pop up a box in your screen if any apps wants to track your activity with other applications. +1 respect for apple to show such concern with user.Apple phones are same ? like 13 vs 14The reason 14 is same as 13 may be business practice followed from 11th edition. But please note that iPhone making changes internally like physical components (small change in battery performance, lens in 14 edition), additional features but that may not satisfy you to buy 14 edition. If you do not find \"the very few changes\" interesting in 14,  go for 13. Because physical and even cameras are not visually very much different in 13 vs 14 comparison. Also you get 13 for cheap :)14 is just added features but that is not for daily use, the features real time use is rare case. But the best part is there is no extra cost between 13 vs 14 prices (except extra 10k slash)Concern you must have.Apple is not giving chargers and their silicon cases are very expensive (but very good in touch and scratch friendly in back due to silk layer). This is an issue for sure. You have to buy charger not coming with USB C and claiming that you help carbon footprint, understandable but not customer friendly business model. Even after the purchase I had to spend at least 7k for charger and case.Apple care.I am not buying it, I pay for phone which is already expensive for this premium and apple care does have strict policy that if you understand that is waste. Instead I find a private insurance to make things better.\\n',\n",
       " '\\nBuying an iphone with my first salary is the dream i manifested it and it happened. I’m writing this review after 8 months. Camera quality everything is good. There is nothing to say about iphone the best always ❤️. But what i observed is after IOS 17 battery started to drain like for 2 days one percent is dropping after that it stopped.Now my battery health is 93%. This is the only concern with iphone remaining all aspects it is worth the money.\\n',\n",
       " '\\nPros:  Good Looking (4/5): The Blue color variant adds to the aesthetic appeal, making the iPhone 14 an eye-catching device.  Better than iPhone 12 (4/5): The iPhone 14 exhibits improvements over the iPhone 12, contributing to an enhanced user experience.  Good Camera (4/5): The camera performance is commendable, capturing high-quality images and enhancing the overall photography experience.In summary, the Apple iPhone 14 in Blue is a solid choice, offering a sleek design, improved features compared to the iPhone 12, and a reliable camera for capturing memorable moments.\\n',\n",
       " '\\nGood product\\n',\n",
       " '\\nFirst time iPhone user like me amazed by iPhone 14. Its battery to camera and security settings are amazing. Go for iPhone 14 than other model. Prize and features …\\n',\n",
       " '\\n.\\n',\n",
       " '\\nSafely delivered\\n',\n",
       " '\\nI gifted this to my wife she was really happy to see this phone and the blue colour is Amazing\\n',\n",
       " '\\nIt’s a good phone but don’t think that it’s perfect. It has its own problems.\\n',\n",
       " '\\nSecurity features\\n']"
      ]
     },
     "execution_count": 19,
     "metadata": {},
     "output_type": "execute_result"
    }
   ],
   "source": [
    "review_content = []\n",
    "\n",
    "for i in range(len(review)):\n",
    "    review_content.append(review[i].get_text())\n",
    "\n",
    "review_content"
   ]
  },
  {
   "cell_type": "code",
   "execution_count": 20,
   "id": "f67c1500",
   "metadata": {
    "scrolled": true
   },
   "outputs": [
    {
     "data": {
      "text/plain": [
       "['About the phoneApple phone without a second delay, I would say it is better than all android phones I have used. The phone is like water, it flows in a way you want and shaping in your way. In a best way possible, the phone is designed to only show what the user wants and eliminating unnecessary ads, features that I have seen in android.Why it is better than Android?You pay too much money for Apple products, obviously you experience the features, physical components , camera lens etc. Apart from basic things, you can also enjoy the best applications available in app store. If you are a developer you might know the app store policy for application publish and their security posture towards handling payment apps etc. They publish best application and the way the apps, its modules switches is just flawless. Due to the so called strict policy of privacy program with Apple products, iPhone can pop up a box in your screen if any apps wants to track your activity with other applications. +1 respect for apple to show such concern with user.Apple phones are same ? like 13 vs 14The reason 14 is same as 13 may be business practice followed from 11th edition. But please note that iPhone making changes internally like physical components (small change in battery performance, lens in 14 edition), additional features but that may not satisfy you to buy 14 edition. If you do not find \"the very few changes\" interesting in 14,  go for 13. Because physical and even cameras are not visually very much different in 13 vs 14 comparison. Also you get 13 for cheap :)14 is just added features but that is not for daily use, the features real time use is rare case. But the best part is there is no extra cost between 13 vs 14 prices (except extra 10k slash)Concern you must have.Apple is not giving chargers and their silicon cases are very expensive (but very good in touch and scratch friendly in back due to silk layer). This is an issue for sure. You have to buy charger not coming with USB C and claiming that you help carbon footprint, understandable but not customer friendly business model. Even after the purchase I had to spend at least 7k for charger and case.Apple care.I am not buying it, I pay for phone which is already expensive for this premium and apple care does have strict policy that if you understand that is waste. Instead I find a private insurance to make things better.',\n",
       " 'Buying an iphone with my first salary is the dream i manifested it and it happened. I’m writing this review after 8 months. Camera quality everything is good. There is nothing to say about iphone the best always ❤️. But what i observed is after IOS 17 battery started to drain like for 2 days one percent is dropping after that it stopped.Now my battery health is 93%. This is the only concern with iphone remaining all aspects it is worth the money.',\n",
       " 'Pros:  Good Looking (4/5): The Blue color variant adds to the aesthetic appeal, making the iPhone 14 an eye-catching device.  Better than iPhone 12 (4/5): The iPhone 14 exhibits improvements over the iPhone 12, contributing to an enhanced user experience.  Good Camera (4/5): The camera performance is commendable, capturing high-quality images and enhancing the overall photography experience.In summary, the Apple iPhone 14 in Blue is a solid choice, offering a sleek design, improved features compared to the iPhone 12, and a reliable camera for capturing memorable moments.',\n",
       " 'Good product',\n",
       " 'First time iPhone user like me amazed by iPhone 14. Its battery to camera and security settings are amazing. Go for iPhone 14 than other model. Prize and features …',\n",
       " '.',\n",
       " 'Safely delivered',\n",
       " 'I gifted this to my wife she was really happy to see this phone and the blue colour is Amazing',\n",
       " 'It’s a good phone but don’t think that it’s perfect. It has its own problems.',\n",
       " 'Security features']"
      ]
     },
     "execution_count": 20,
     "metadata": {},
     "output_type": "execute_result"
    }
   ],
   "source": [
    "review_content[:] = [reviews.strip(\"\\n\") for reviews in review_content]\n",
    "review_content"
   ]
  },
  {
   "cell_type": "code",
   "execution_count": 21,
   "id": "dfd486f0",
   "metadata": {},
   "outputs": [
    {
     "data": {
      "text/plain": [
       "10"
      ]
     },
     "execution_count": 21,
     "metadata": {},
     "output_type": "execute_result"
    }
   ],
   "source": [
    "len(review_content)"
   ]
  },
  {
   "cell_type": "code",
   "execution_count": 22,
   "id": "7c2022b8",
   "metadata": {},
   "outputs": [],
   "source": [
    "df = pd.DataFrame()\n",
    "df[\"Customer Name\"] = cust_name[:10]\n",
    "df[\"Review title\"] = review_title[:10]\n",
    "df[\"Ratings\"] = rate[:10]\n",
    "df[\"Reviews\"] = review_content[:10]"
   ]
  },
  {
   "cell_type": "code",
   "execution_count": 23,
   "id": "2a1fc6da",
   "metadata": {},
   "outputs": [
    {
     "data": {
      "text/html": [
       "<div>\n",
       "<style scoped>\n",
       "    .dataframe tbody tr th:only-of-type {\n",
       "        vertical-align: middle;\n",
       "    }\n",
       "\n",
       "    .dataframe tbody tr th {\n",
       "        vertical-align: top;\n",
       "    }\n",
       "\n",
       "    .dataframe thead th {\n",
       "        text-align: right;\n",
       "    }\n",
       "</style>\n",
       "<table border=\"1\" class=\"dataframe\">\n",
       "  <thead>\n",
       "    <tr style=\"text-align: right;\">\n",
       "      <th></th>\n",
       "      <th>Customer Name</th>\n",
       "      <th>Review title</th>\n",
       "      <th>Ratings</th>\n",
       "      <th>Reviews</th>\n",
       "    </tr>\n",
       "  </thead>\n",
       "  <tbody>\n",
       "    <tr>\n",
       "      <th>0</th>\n",
       "      <td>Prasanna</td>\n",
       "      <td>5.0 out of 5 stars\\nExceeding my expectation. ...</td>\n",
       "      <td>5.0 out of 5 stars</td>\n",
       "      <td>About the phoneApple phone without a second de...</td>\n",
       "    </tr>\n",
       "    <tr>\n",
       "      <th>1</th>\n",
       "      <td>Vivek</td>\n",
       "      <td>5.0 out of 5 stars\\nLoved it ❤️</td>\n",
       "      <td>3.0 out of 5 stars</td>\n",
       "      <td>Buying an iphone with my first salary is the d...</td>\n",
       "    </tr>\n",
       "    <tr>\n",
       "      <th>2</th>\n",
       "      <td>Prasanna</td>\n",
       "      <td>4.0 out of 5 stars\\nIt's visually appealing an...</td>\n",
       "      <td>5.0 out of 5 stars</td>\n",
       "      <td>Pros:  Good Looking (4/5): The Blue color vari...</td>\n",
       "    </tr>\n",
       "    <tr>\n",
       "      <th>3</th>\n",
       "      <td>Vaishnavi Nelabotla</td>\n",
       "      <td>5.0 out of 5 stars\\nIphone 14</td>\n",
       "      <td>5.0 out of 5 stars</td>\n",
       "      <td>Good product</td>\n",
       "    </tr>\n",
       "    <tr>\n",
       "      <th>4</th>\n",
       "      <td>Vaishnavi Nelabotla</td>\n",
       "      <td>5.0 out of 5 stars\\nAmaze me</td>\n",
       "      <td>4.0 out of 5 stars</td>\n",
       "      <td>First time iPhone user like me amazed by iPhon...</td>\n",
       "    </tr>\n",
       "  </tbody>\n",
       "</table>\n",
       "</div>"
      ],
      "text/plain": [
       "         Customer Name                                       Review title  \\\n",
       "0             Prasanna  5.0 out of 5 stars\\nExceeding my expectation. ...   \n",
       "1                Vivek                    5.0 out of 5 stars\\nLoved it ❤️   \n",
       "2             Prasanna  4.0 out of 5 stars\\nIt's visually appealing an...   \n",
       "3  Vaishnavi Nelabotla                      5.0 out of 5 stars\\nIphone 14   \n",
       "4  Vaishnavi Nelabotla                       5.0 out of 5 stars\\nAmaze me   \n",
       "\n",
       "              Ratings                                            Reviews  \n",
       "0  5.0 out of 5 stars  About the phoneApple phone without a second de...  \n",
       "1  3.0 out of 5 stars  Buying an iphone with my first salary is the d...  \n",
       "2  5.0 out of 5 stars  Pros:  Good Looking (4/5): The Blue color vari...  \n",
       "3  5.0 out of 5 stars                                       Good product  \n",
       "4  4.0 out of 5 stars  First time iPhone user like me amazed by iPhon...  "
      ]
     },
     "execution_count": 23,
     "metadata": {},
     "output_type": "execute_result"
    }
   ],
   "source": [
    "df.head()"
   ]
  },
  {
   "cell_type": "code",
   "execution_count": 24,
   "id": "accbf85c",
   "metadata": {},
   "outputs": [],
   "source": [
    "df.to_csv(r\"reviews.csv\", index=True)"
   ]
  },
  {
   "cell_type": "code",
   "execution_count": null,
   "id": "8fafed1b",
   "metadata": {},
   "outputs": [],
   "source": []
  }
 ],
 "metadata": {
  "kernelspec": {
   "display_name": "Python 3 (ipykernel)",
   "language": "python",
   "name": "python3"
  },
  "language_info": {
   "codemirror_mode": {
    "name": "ipython",
    "version": 3
   },
   "file_extension": ".py",
   "mimetype": "text/x-python",
   "name": "python",
   "nbconvert_exporter": "python",
   "pygments_lexer": "ipython3",
   "version": "3.12.3"
  }
 },
 "nbformat": 4,
 "nbformat_minor": 5
}
