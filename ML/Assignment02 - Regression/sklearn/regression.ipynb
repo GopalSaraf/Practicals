{
  "cells": [
    {
      "cell_type": "code",
      "execution_count": 1,
      "metadata": {
        "id": "r9Y2n2VLp_5j"
      },
      "outputs": [],
      "source": [
        "import pandas as pd\n",
        "import numpy as np\n",
        "\n",
        "np.set_printoptions(precision=2)"
      ]
    },
    {
      "cell_type": "code",
      "execution_count": 2,
      "metadata": {},
      "outputs": [],
      "source": [
        "# Download the dataset\n",
        "\n",
        "import os\n",
        "import wget\n",
        "\n",
        "dataset_url = 'https://github.com/GopalSaraf/Practicals/releases/download/ML-Datasets/temperatures.csv'\n",
        "\n",
        "if not os.path.exists('temperatures.csv'):\n",
        "    wget.download(dataset_url)"
      ]
    },
    {
      "cell_type": "code",
      "execution_count": 3,
      "metadata": {
        "colab": {
          "base_uri": "https://localhost:8080/"
        },
        "id": "7NE-HZoUqYhv",
        "outputId": "32085c62-9a7a-4d20-9a36-6fdbc99d4c0e"
      },
      "outputs": [],
      "source": [
        "# Create dataframe\n",
        "df = pd.read_csv(\"temperatures.csv\")"
      ]
    },
    {
      "cell_type": "code",
      "execution_count": 4,
      "metadata": {
        "colab": {
          "base_uri": "https://localhost:8080/",
          "height": 424
        },
        "id": "QlJ0plQPqqcW",
        "outputId": "532c3ced-9b2a-4544-eee7-8cb936dd85b6"
      },
      "outputs": [
        {
          "data": {
            "text/html": [
              "<div>\n",
              "<style scoped>\n",
              "    .dataframe tbody tr th:only-of-type {\n",
              "        vertical-align: middle;\n",
              "    }\n",
              "\n",
              "    .dataframe tbody tr th {\n",
              "        vertical-align: top;\n",
              "    }\n",
              "\n",
              "    .dataframe thead th {\n",
              "        text-align: right;\n",
              "    }\n",
              "</style>\n",
              "<table border=\"1\" class=\"dataframe\">\n",
              "  <thead>\n",
              "    <tr style=\"text-align: right;\">\n",
              "      <th></th>\n",
              "      <th>YEAR</th>\n",
              "      <th>JAN</th>\n",
              "      <th>FEB</th>\n",
              "      <th>MAR</th>\n",
              "      <th>APR</th>\n",
              "      <th>MAY</th>\n",
              "      <th>JUN</th>\n",
              "      <th>JUL</th>\n",
              "      <th>AUG</th>\n",
              "      <th>SEP</th>\n",
              "      <th>OCT</th>\n",
              "      <th>NOV</th>\n",
              "      <th>DEC</th>\n",
              "      <th>ANNUAL</th>\n",
              "      <th>JAN-FEB</th>\n",
              "      <th>MAR-MAY</th>\n",
              "      <th>JUN-SEP</th>\n",
              "      <th>OCT-DEC</th>\n",
              "    </tr>\n",
              "  </thead>\n",
              "  <tbody>\n",
              "    <tr>\n",
              "      <th>0</th>\n",
              "      <td>1901</td>\n",
              "      <td>22.40</td>\n",
              "      <td>24.14</td>\n",
              "      <td>29.07</td>\n",
              "      <td>31.91</td>\n",
              "      <td>33.41</td>\n",
              "      <td>33.18</td>\n",
              "      <td>31.21</td>\n",
              "      <td>30.39</td>\n",
              "      <td>30.47</td>\n",
              "      <td>29.97</td>\n",
              "      <td>27.31</td>\n",
              "      <td>24.49</td>\n",
              "      <td>28.96</td>\n",
              "      <td>23.27</td>\n",
              "      <td>31.46</td>\n",
              "      <td>31.27</td>\n",
              "      <td>27.25</td>\n",
              "    </tr>\n",
              "    <tr>\n",
              "      <th>1</th>\n",
              "      <td>1902</td>\n",
              "      <td>24.93</td>\n",
              "      <td>26.58</td>\n",
              "      <td>29.77</td>\n",
              "      <td>31.78</td>\n",
              "      <td>33.73</td>\n",
              "      <td>32.91</td>\n",
              "      <td>30.92</td>\n",
              "      <td>30.73</td>\n",
              "      <td>29.80</td>\n",
              "      <td>29.12</td>\n",
              "      <td>26.31</td>\n",
              "      <td>24.04</td>\n",
              "      <td>29.22</td>\n",
              "      <td>25.75</td>\n",
              "      <td>31.76</td>\n",
              "      <td>31.09</td>\n",
              "      <td>26.49</td>\n",
              "    </tr>\n",
              "    <tr>\n",
              "      <th>2</th>\n",
              "      <td>1903</td>\n",
              "      <td>23.44</td>\n",
              "      <td>25.03</td>\n",
              "      <td>27.83</td>\n",
              "      <td>31.39</td>\n",
              "      <td>32.91</td>\n",
              "      <td>33.00</td>\n",
              "      <td>31.34</td>\n",
              "      <td>29.98</td>\n",
              "      <td>29.85</td>\n",
              "      <td>29.04</td>\n",
              "      <td>26.08</td>\n",
              "      <td>23.65</td>\n",
              "      <td>28.47</td>\n",
              "      <td>24.24</td>\n",
              "      <td>30.71</td>\n",
              "      <td>30.92</td>\n",
              "      <td>26.26</td>\n",
              "    </tr>\n",
              "    <tr>\n",
              "      <th>3</th>\n",
              "      <td>1904</td>\n",
              "      <td>22.50</td>\n",
              "      <td>24.73</td>\n",
              "      <td>28.21</td>\n",
              "      <td>32.02</td>\n",
              "      <td>32.64</td>\n",
              "      <td>32.07</td>\n",
              "      <td>30.36</td>\n",
              "      <td>30.09</td>\n",
              "      <td>30.04</td>\n",
              "      <td>29.20</td>\n",
              "      <td>26.36</td>\n",
              "      <td>23.63</td>\n",
              "      <td>28.49</td>\n",
              "      <td>23.62</td>\n",
              "      <td>30.95</td>\n",
              "      <td>30.66</td>\n",
              "      <td>26.40</td>\n",
              "    </tr>\n",
              "    <tr>\n",
              "      <th>4</th>\n",
              "      <td>1905</td>\n",
              "      <td>22.00</td>\n",
              "      <td>22.83</td>\n",
              "      <td>26.68</td>\n",
              "      <td>30.01</td>\n",
              "      <td>33.32</td>\n",
              "      <td>33.25</td>\n",
              "      <td>31.44</td>\n",
              "      <td>30.68</td>\n",
              "      <td>30.12</td>\n",
              "      <td>30.67</td>\n",
              "      <td>27.52</td>\n",
              "      <td>23.82</td>\n",
              "      <td>28.30</td>\n",
              "      <td>22.25</td>\n",
              "      <td>30.00</td>\n",
              "      <td>31.33</td>\n",
              "      <td>26.57</td>\n",
              "    </tr>\n",
              "    <tr>\n",
              "      <th>...</th>\n",
              "      <td>...</td>\n",
              "      <td>...</td>\n",
              "      <td>...</td>\n",
              "      <td>...</td>\n",
              "      <td>...</td>\n",
              "      <td>...</td>\n",
              "      <td>...</td>\n",
              "      <td>...</td>\n",
              "      <td>...</td>\n",
              "      <td>...</td>\n",
              "      <td>...</td>\n",
              "      <td>...</td>\n",
              "      <td>...</td>\n",
              "      <td>...</td>\n",
              "      <td>...</td>\n",
              "      <td>...</td>\n",
              "      <td>...</td>\n",
              "      <td>...</td>\n",
              "    </tr>\n",
              "    <tr>\n",
              "      <th>112</th>\n",
              "      <td>2013</td>\n",
              "      <td>24.56</td>\n",
              "      <td>26.59</td>\n",
              "      <td>30.62</td>\n",
              "      <td>32.66</td>\n",
              "      <td>34.46</td>\n",
              "      <td>32.44</td>\n",
              "      <td>31.07</td>\n",
              "      <td>30.76</td>\n",
              "      <td>31.04</td>\n",
              "      <td>30.27</td>\n",
              "      <td>27.83</td>\n",
              "      <td>25.37</td>\n",
              "      <td>29.81</td>\n",
              "      <td>25.58</td>\n",
              "      <td>32.58</td>\n",
              "      <td>31.33</td>\n",
              "      <td>27.83</td>\n",
              "    </tr>\n",
              "    <tr>\n",
              "      <th>113</th>\n",
              "      <td>2014</td>\n",
              "      <td>23.83</td>\n",
              "      <td>25.97</td>\n",
              "      <td>28.95</td>\n",
              "      <td>32.74</td>\n",
              "      <td>33.77</td>\n",
              "      <td>34.15</td>\n",
              "      <td>31.85</td>\n",
              "      <td>31.32</td>\n",
              "      <td>30.68</td>\n",
              "      <td>30.29</td>\n",
              "      <td>28.05</td>\n",
              "      <td>25.08</td>\n",
              "      <td>29.72</td>\n",
              "      <td>24.90</td>\n",
              "      <td>31.82</td>\n",
              "      <td>32.00</td>\n",
              "      <td>27.81</td>\n",
              "    </tr>\n",
              "    <tr>\n",
              "      <th>114</th>\n",
              "      <td>2015</td>\n",
              "      <td>24.58</td>\n",
              "      <td>26.89</td>\n",
              "      <td>29.07</td>\n",
              "      <td>31.87</td>\n",
              "      <td>34.09</td>\n",
              "      <td>32.48</td>\n",
              "      <td>31.88</td>\n",
              "      <td>31.52</td>\n",
              "      <td>31.55</td>\n",
              "      <td>31.04</td>\n",
              "      <td>28.10</td>\n",
              "      <td>25.67</td>\n",
              "      <td>29.90</td>\n",
              "      <td>25.74</td>\n",
              "      <td>31.68</td>\n",
              "      <td>31.87</td>\n",
              "      <td>28.27</td>\n",
              "    </tr>\n",
              "    <tr>\n",
              "      <th>115</th>\n",
              "      <td>2016</td>\n",
              "      <td>26.94</td>\n",
              "      <td>29.72</td>\n",
              "      <td>32.62</td>\n",
              "      <td>35.38</td>\n",
              "      <td>35.72</td>\n",
              "      <td>34.03</td>\n",
              "      <td>31.64</td>\n",
              "      <td>31.79</td>\n",
              "      <td>31.66</td>\n",
              "      <td>31.98</td>\n",
              "      <td>30.11</td>\n",
              "      <td>28.01</td>\n",
              "      <td>31.63</td>\n",
              "      <td>28.33</td>\n",
              "      <td>34.57</td>\n",
              "      <td>32.28</td>\n",
              "      <td>30.03</td>\n",
              "    </tr>\n",
              "    <tr>\n",
              "      <th>116</th>\n",
              "      <td>2017</td>\n",
              "      <td>26.45</td>\n",
              "      <td>29.46</td>\n",
              "      <td>31.60</td>\n",
              "      <td>34.95</td>\n",
              "      <td>35.84</td>\n",
              "      <td>33.82</td>\n",
              "      <td>31.88</td>\n",
              "      <td>31.72</td>\n",
              "      <td>32.22</td>\n",
              "      <td>32.29</td>\n",
              "      <td>29.60</td>\n",
              "      <td>27.18</td>\n",
              "      <td>31.42</td>\n",
              "      <td>27.95</td>\n",
              "      <td>34.13</td>\n",
              "      <td>32.41</td>\n",
              "      <td>29.69</td>\n",
              "    </tr>\n",
              "  </tbody>\n",
              "</table>\n",
              "<p>117 rows × 18 columns</p>\n",
              "</div>"
            ],
            "text/plain": [
              "     YEAR    JAN    FEB    MAR    APR    MAY    JUN    JUL    AUG    SEP  \\\n",
              "0    1901  22.40  24.14  29.07  31.91  33.41  33.18  31.21  30.39  30.47   \n",
              "1    1902  24.93  26.58  29.77  31.78  33.73  32.91  30.92  30.73  29.80   \n",
              "2    1903  23.44  25.03  27.83  31.39  32.91  33.00  31.34  29.98  29.85   \n",
              "3    1904  22.50  24.73  28.21  32.02  32.64  32.07  30.36  30.09  30.04   \n",
              "4    1905  22.00  22.83  26.68  30.01  33.32  33.25  31.44  30.68  30.12   \n",
              "..    ...    ...    ...    ...    ...    ...    ...    ...    ...    ...   \n",
              "112  2013  24.56  26.59  30.62  32.66  34.46  32.44  31.07  30.76  31.04   \n",
              "113  2014  23.83  25.97  28.95  32.74  33.77  34.15  31.85  31.32  30.68   \n",
              "114  2015  24.58  26.89  29.07  31.87  34.09  32.48  31.88  31.52  31.55   \n",
              "115  2016  26.94  29.72  32.62  35.38  35.72  34.03  31.64  31.79  31.66   \n",
              "116  2017  26.45  29.46  31.60  34.95  35.84  33.82  31.88  31.72  32.22   \n",
              "\n",
              "       OCT    NOV    DEC  ANNUAL  JAN-FEB  MAR-MAY  JUN-SEP  OCT-DEC  \n",
              "0    29.97  27.31  24.49   28.96    23.27    31.46    31.27    27.25  \n",
              "1    29.12  26.31  24.04   29.22    25.75    31.76    31.09    26.49  \n",
              "2    29.04  26.08  23.65   28.47    24.24    30.71    30.92    26.26  \n",
              "3    29.20  26.36  23.63   28.49    23.62    30.95    30.66    26.40  \n",
              "4    30.67  27.52  23.82   28.30    22.25    30.00    31.33    26.57  \n",
              "..     ...    ...    ...     ...      ...      ...      ...      ...  \n",
              "112  30.27  27.83  25.37   29.81    25.58    32.58    31.33    27.83  \n",
              "113  30.29  28.05  25.08   29.72    24.90    31.82    32.00    27.81  \n",
              "114  31.04  28.10  25.67   29.90    25.74    31.68    31.87    28.27  \n",
              "115  31.98  30.11  28.01   31.63    28.33    34.57    32.28    30.03  \n",
              "116  32.29  29.60  27.18   31.42    27.95    34.13    32.41    29.69  \n",
              "\n",
              "[117 rows x 18 columns]"
            ]
          },
          "execution_count": 4,
          "metadata": {},
          "output_type": "execute_result"
        }
      ],
      "source": [
        "df"
      ]
    },
    {
      "cell_type": "code",
      "execution_count": 5,
      "metadata": {
        "colab": {
          "base_uri": "https://localhost:8080/"
        },
        "id": "fYyviHLHqtN9",
        "outputId": "a2b362b9-cbd9-4f58-a556-66388de79484"
      },
      "outputs": [
        {
          "data": {
            "text/plain": [
              "YEAR       1.000000\n",
              "JAN        0.575499\n",
              "FEB        0.647066\n",
              "MAR        0.553886\n",
              "APR        0.540662\n",
              "MAY        0.407648\n",
              "JUN        0.371840\n",
              "JUL        0.478512\n",
              "AUG        0.654138\n",
              "SEP        0.664008\n",
              "OCT        0.589073\n",
              "NOV        0.697887\n",
              "DEC        0.732222\n",
              "ANNUAL     0.801129\n",
              "JAN-FEB    0.679869\n",
              "MAR-MAY    0.640438\n",
              "JUN-SEP    0.677061\n",
              "OCT-DEC    0.749792\n",
              "Name: YEAR, dtype: float64"
            ]
          },
          "execution_count": 5,
          "metadata": {},
          "output_type": "execute_result"
        }
      ],
      "source": [
        "# Correlation of 'YEAR' with other coloumns\n",
        "df.corr()[\"YEAR\"]"
      ]
    },
    {
      "cell_type": "code",
      "execution_count": 6,
      "metadata": {
        "id": "brypIxMwq3fg"
      },
      "outputs": [],
      "source": [
        "# As 'YEAR' is highly correlated with 'ANNUAL' coloumn, Will train model on 'YEAR' and 'ANNUAL'\n",
        "\n",
        "X = df[\"YEAR\"].values\n",
        "Y = df[\"ANNUAL\"].values"
      ]
    },
    {
      "cell_type": "code",
      "execution_count": 7,
      "metadata": {
        "colab": {
          "base_uri": "https://localhost:8080/"
        },
        "id": "FSxSlYIqrIu3",
        "outputId": "6137e2ba-9b3c-4d80-c5b1-ce2f977ef6f1"
      },
      "outputs": [
        {
          "data": {
            "text/plain": [
              "array([1901, 1902, 1903, 1904, 1905, 1906, 1907, 1908, 1909, 1910, 1911,\n",
              "       1912, 1913, 1914, 1915, 1916, 1917, 1918, 1919, 1920, 1921, 1922,\n",
              "       1923, 1924, 1925, 1926, 1927, 1928, 1929, 1930, 1931, 1932, 1933,\n",
              "       1934, 1935, 1936, 1937, 1938, 1939, 1940, 1941, 1942, 1943, 1944,\n",
              "       1945, 1946, 1947, 1948, 1949, 1950, 1951, 1952, 1953, 1954, 1955,\n",
              "       1956, 1957, 1958, 1959, 1960, 1961, 1962, 1963, 1964, 1965, 1966,\n",
              "       1967, 1968, 1969, 1970, 1971, 1972, 1973, 1974, 1975, 1976, 1977,\n",
              "       1978, 1979, 1980, 1981, 1982, 1983, 1984, 1985, 1986, 1987, 1988,\n",
              "       1989, 1990, 1991, 1992, 1993, 1994, 1995, 1996, 1997, 1998, 1999,\n",
              "       2000, 2001, 2002, 2003, 2004, 2005, 2006, 2007, 2008, 2009, 2010,\n",
              "       2011, 2012, 2013, 2014, 2015, 2016, 2017])"
            ]
          },
          "execution_count": 7,
          "metadata": {},
          "output_type": "execute_result"
        }
      ],
      "source": [
        "X"
      ]
    },
    {
      "cell_type": "code",
      "execution_count": 8,
      "metadata": {
        "colab": {
          "base_uri": "https://localhost:8080/"
        },
        "id": "sWH_Q714rKRm",
        "outputId": "db5e0fd9-608a-4498-e000-4efd19ca020e"
      },
      "outputs": [
        {
          "data": {
            "text/plain": [
              "array([28.96, 29.22, 28.47, 28.49, 28.3 , 28.73, 28.65, 28.83, 28.38,\n",
              "       28.53, 28.62, 28.95, 28.67, 28.66, 28.94, 28.82, 28.11, 28.66,\n",
              "       28.66, 28.76, 28.86, 28.8 , 28.74, 28.8 , 28.67, 28.7 , 28.59,\n",
              "       28.98, 28.76, 28.65, 29.15, 29.09, 28.49, 29.03, 28.76, 28.71,\n",
              "       28.7 , 28.7 , 28.85, 28.88, 29.46, 28.98, 28.8 , 28.89, 28.97,\n",
              "       29.37, 28.84, 28.73, 28.89, 28.47, 29.09, 29.16, 29.43, 28.92,\n",
              "       28.76, 28.63, 28.64, 29.34, 29.02, 29.31, 28.72, 28.89, 29.04,\n",
              "       29.09, 29.16, 29.41, 29.14, 29.07, 29.61, 29.47, 29.15, 29.31,\n",
              "       29.44, 29.26, 28.89, 29.27, 29.41, 29.23, 29.63, 29.58, 29.32,\n",
              "       29.12, 29.11, 29.28, 29.61, 29.33, 29.72, 29.55, 29.18, 29.14,\n",
              "       29.32, 29.23, 29.55, 29.46, 30.18, 29.58, 29.05, 29.7 , 29.81,\n",
              "       29.75, 29.99, 30.23, 29.75, 29.79, 29.6 , 30.06, 29.84, 29.64,\n",
              "       30.3 , 30.13, 29.82, 29.81, 29.81, 29.72, 29.9 , 31.63, 31.42])"
            ]
          },
          "execution_count": 8,
          "metadata": {},
          "output_type": "execute_result"
        }
      ],
      "source": [
        "Y"
      ]
    },
    {
      "cell_type": "code",
      "execution_count": 9,
      "metadata": {
        "id": "6Tlsf2V4rLyL"
      },
      "outputs": [],
      "source": [
        "# Splitting dataset in train test\n",
        "from sklearn.model_selection import train_test_split\n",
        "\n",
        "X_train, X_test, Y_train, Y_test = train_test_split(X, Y, test_size=0.2)"
      ]
    },
    {
      "cell_type": "code",
      "execution_count": 10,
      "metadata": {
        "colab": {
          "base_uri": "https://localhost:8080/"
        },
        "id": "n6QcDchmrkhA",
        "outputId": "5a862d15-fc2b-40ba-fb41-a2c43efc0417"
      },
      "outputs": [
        {
          "name": "stdout",
          "output_type": "stream",
          "text": [
            "(93,)\n",
            "(24,)\n",
            "(93,)\n",
            "(24,)\n"
          ]
        }
      ],
      "source": [
        "print(X_train.shape)\n",
        "print(X_test.shape)\n",
        "print(Y_train.shape)\n",
        "print(Y_test.shape)"
      ]
    },
    {
      "cell_type": "code",
      "execution_count": 11,
      "metadata": {
        "colab": {
          "base_uri": "https://localhost:8080/"
        },
        "id": "EPDlCdl4rufx",
        "outputId": "50f9a96d-8504-4ad4-bf5f-7a0379905592"
      },
      "outputs": [
        {
          "data": {
            "text/plain": [
              "array([[-0.89],\n",
              "       [ 0.16],\n",
              "       [ 1.39],\n",
              "       [ 0.54],\n",
              "       [ 0.34],\n",
              "       [ 0.22],\n",
              "       [ 0.8 ],\n",
              "       [ 1.1 ],\n",
              "       [ 1.21],\n",
              "       [-1.21],\n",
              "       [-1.56],\n",
              "       [ 1.3 ],\n",
              "       [-0.24],\n",
              "       [ 1.45],\n",
              "       [-0.56],\n",
              "       [-0.39],\n",
              "       [ 0.28],\n",
              "       [-1.41],\n",
              "       [ 0.72],\n",
              "       [-0.19],\n",
              "       [ 0.78],\n",
              "       [-0.04],\n",
              "       [ 0.6 ],\n",
              "       [ 0.4 ],\n",
              "       [ 1.36],\n",
              "       [ 0.25],\n",
              "       [ 0.86],\n",
              "       [-0.74],\n",
              "       [ 0.46],\n",
              "       [-1.32],\n",
              "       [-0.83],\n",
              "       [ 1.74],\n",
              "       [-0.42],\n",
              "       [ 1.04],\n",
              "       [-1.58],\n",
              "       [-1.03],\n",
              "       [-1.35],\n",
              "       [-0.13],\n",
              "       [ 1.65],\n",
              "       [-0.68],\n",
              "       [ 1.68],\n",
              "       [-1.12],\n",
              "       [-1.  ],\n",
              "       [-1.24],\n",
              "       [ 1.59],\n",
              "       [-1.38],\n",
              "       [-1.44],\n",
              "       [-0.8 ],\n",
              "       [ 1.56],\n",
              "       [ 0.48],\n",
              "       [-1.18],\n",
              "       [-1.15],\n",
              "       [-1.61],\n",
              "       [ 1.47],\n",
              "       [-0.45],\n",
              "       [-0.48],\n",
              "       [ 1.42],\n",
              "       [-0.91],\n",
              "       [ 0.75],\n",
              "       [ 1.24],\n",
              "       [ 0.02],\n",
              "       [-0.71],\n",
              "       [-0.94],\n",
              "       [ 1.07],\n",
              "       [ 0.05],\n",
              "       [-1.26],\n",
              "       [ 1.18],\n",
              "       [-0.07],\n",
              "       [-0.86],\n",
              "       [-0.54],\n",
              "       [ 0.98],\n",
              "       [ 1.5 ],\n",
              "       [-0.65],\n",
              "       [-0.77],\n",
              "       [-1.64],\n",
              "       [-1.5 ],\n",
              "       [ 0.31],\n",
              "       [ 0.37],\n",
              "       [-0.22],\n",
              "       [-1.47],\n",
              "       [-1.53],\n",
              "       [-0.1 ],\n",
              "       [ 0.51],\n",
              "       [ 0.66],\n",
              "       [ 0.13],\n",
              "       [ 0.11],\n",
              "       [-0.33],\n",
              "       [ 1.13],\n",
              "       [ 0.92],\n",
              "       [ 0.57],\n",
              "       [-0.59],\n",
              "       [ 1.27],\n",
              "       [ 0.89]])"
            ]
          },
          "execution_count": 11,
          "metadata": {},
          "output_type": "execute_result"
        }
      ],
      "source": [
        "# Applying normalization on X\n",
        "\n",
        "from sklearn.preprocessing import StandardScaler\n",
        "\n",
        "X_scalar = StandardScaler()\n",
        "X_train = X_scalar.fit_transform(X_train.reshape(-1, 1))\n",
        "X_train"
      ]
    },
    {
      "cell_type": "code",
      "execution_count": 12,
      "metadata": {
        "colab": {
          "base_uri": "https://localhost:8080/"
        },
        "id": "H6f6DRmZrzla",
        "outputId": "84592ccf-096c-4fc1-9576-e3eb12dbf6ae"
      },
      "outputs": [
        {
          "data": {
            "text/plain": [
              "array([[-1.09],\n",
              "       [-0.24],\n",
              "       [ 0.82],\n",
              "       [ 0.2 ],\n",
              "       [ 0.84],\n",
              "       [-0.01],\n",
              "       [ 0.84],\n",
              "       [ 1.91],\n",
              "       [ 1.21],\n",
              "       [-0.65],\n",
              "       [-1.27],\n",
              "       [ 2.  ],\n",
              "       [-0.52],\n",
              "       [ 1.27],\n",
              "       [-0.88],\n",
              "       [-0.52],\n",
              "       [-0.05],\n",
              "       [-1.48],\n",
              "       [-0.09],\n",
              "       [-0.14],\n",
              "       [ 0.21],\n",
              "       [-1.01],\n",
              "       [ 0.12],\n",
              "       [-0.03],\n",
              "       [ 1.17],\n",
              "       [ 0.46],\n",
              "       [ 1.04],\n",
              "       [-0.14],\n",
              "       [ 0.52],\n",
              "       [-0.41],\n",
              "       [-0.77],\n",
              "       [ 4.25],\n",
              "       [-0.69],\n",
              "       [ 0.72],\n",
              "       [-1.31],\n",
              "       [-0.69],\n",
              "       [-1.03],\n",
              "       [ 0.5 ],\n",
              "       [ 1.04],\n",
              "       [-0.26],\n",
              "       [ 1.38],\n",
              "       [-0.95],\n",
              "       [-0.8 ],\n",
              "       [-0.43],\n",
              "       [ 1.21],\n",
              "       [-1.2 ],\n",
              "       [-0.63],\n",
              "       [-0.97],\n",
              "       [ 1.23],\n",
              "       [ 0.18],\n",
              "       [-1.99],\n",
              "       [-0.95],\n",
              "       [ 0.1 ],\n",
              "       [ 0.89],\n",
              "       [-0.35],\n",
              "       [ 0.55],\n",
              "       [ 1.68],\n",
              "       [-0.88],\n",
              "       [-0.11],\n",
              "       [ 1.1 ],\n",
              "       [ 0.33],\n",
              "       [-1.27],\n",
              "       [-0.94],\n",
              "       [ 0.55],\n",
              "       [-0.28],\n",
              "       [-0.95],\n",
              "       [ 1.01],\n",
              "       [-0.77],\n",
              "       [-0.35],\n",
              "       [-0.6 ],\n",
              "       [ 0.29],\n",
              "       [ 2.14],\n",
              "       [-0.77],\n",
              "       [-0.03],\n",
              "       [-0.39],\n",
              "       [-0.82],\n",
              "       [-0.18],\n",
              "       [ 0.57],\n",
              "       [-1.31],\n",
              "       [-0.97],\n",
              "       [-1.63],\n",
              "       [-0.46],\n",
              "       [-0.52],\n",
              "       [ 0.78],\n",
              "       [-0.52],\n",
              "       [-0.84],\n",
              "       [ 0.38],\n",
              "       [ 0.78],\n",
              "       [ 0.03],\n",
              "       [ 0.46],\n",
              "       [-0.88],\n",
              "       [ 1.55],\n",
              "       [ 0.72]])"
            ]
          },
          "execution_count": 12,
          "metadata": {},
          "output_type": "execute_result"
        }
      ],
      "source": [
        "# Applying normalization on Y\n",
        "\n",
        "Y_scalar = StandardScaler()\n",
        "Y_train = Y_scalar.fit_transform(Y_train.reshape(-1, 1))\n",
        "Y_train"
      ]
    },
    {
      "cell_type": "code",
      "execution_count": 13,
      "metadata": {
        "id": "NUvSlpdLsG35"
      },
      "outputs": [],
      "source": [
        "# Creating the model\n",
        "from sklearn.linear_model import LinearRegression\n",
        "\n",
        "model = LinearRegression()"
      ]
    },
    {
      "cell_type": "code",
      "execution_count": 14,
      "metadata": {
        "colab": {
          "base_uri": "https://localhost:8080/"
        },
        "id": "GEatdm_XslRu",
        "outputId": "92e2b5e6-ddf9-4300-f666-f855e1961128"
      },
      "outputs": [
        {
          "data": {
            "text/html": [
              "<style>#sk-container-id-1 {color: black;background-color: white;}#sk-container-id-1 pre{padding: 0;}#sk-container-id-1 div.sk-toggleable {background-color: white;}#sk-container-id-1 label.sk-toggleable__label {cursor: pointer;display: block;width: 100%;margin-bottom: 0;padding: 0.3em;box-sizing: border-box;text-align: center;}#sk-container-id-1 label.sk-toggleable__label-arrow:before {content: \"▸\";float: left;margin-right: 0.25em;color: #696969;}#sk-container-id-1 label.sk-toggleable__label-arrow:hover:before {color: black;}#sk-container-id-1 div.sk-estimator:hover label.sk-toggleable__label-arrow:before {color: black;}#sk-container-id-1 div.sk-toggleable__content {max-height: 0;max-width: 0;overflow: hidden;text-align: left;background-color: #f0f8ff;}#sk-container-id-1 div.sk-toggleable__content pre {margin: 0.2em;color: black;border-radius: 0.25em;background-color: #f0f8ff;}#sk-container-id-1 input.sk-toggleable__control:checked~div.sk-toggleable__content {max-height: 200px;max-width: 100%;overflow: auto;}#sk-container-id-1 input.sk-toggleable__control:checked~label.sk-toggleable__label-arrow:before {content: \"▾\";}#sk-container-id-1 div.sk-estimator input.sk-toggleable__control:checked~label.sk-toggleable__label {background-color: #d4ebff;}#sk-container-id-1 div.sk-label input.sk-toggleable__control:checked~label.sk-toggleable__label {background-color: #d4ebff;}#sk-container-id-1 input.sk-hidden--visually {border: 0;clip: rect(1px 1px 1px 1px);clip: rect(1px, 1px, 1px, 1px);height: 1px;margin: -1px;overflow: hidden;padding: 0;position: absolute;width: 1px;}#sk-container-id-1 div.sk-estimator {font-family: monospace;background-color: #f0f8ff;border: 1px dotted black;border-radius: 0.25em;box-sizing: border-box;margin-bottom: 0.5em;}#sk-container-id-1 div.sk-estimator:hover {background-color: #d4ebff;}#sk-container-id-1 div.sk-parallel-item::after {content: \"\";width: 100%;border-bottom: 1px solid gray;flex-grow: 1;}#sk-container-id-1 div.sk-label:hover label.sk-toggleable__label {background-color: #d4ebff;}#sk-container-id-1 div.sk-serial::before {content: \"\";position: absolute;border-left: 1px solid gray;box-sizing: border-box;top: 0;bottom: 0;left: 50%;z-index: 0;}#sk-container-id-1 div.sk-serial {display: flex;flex-direction: column;align-items: center;background-color: white;padding-right: 0.2em;padding-left: 0.2em;position: relative;}#sk-container-id-1 div.sk-item {position: relative;z-index: 1;}#sk-container-id-1 div.sk-parallel {display: flex;align-items: stretch;justify-content: center;background-color: white;position: relative;}#sk-container-id-1 div.sk-item::before, #sk-container-id-1 div.sk-parallel-item::before {content: \"\";position: absolute;border-left: 1px solid gray;box-sizing: border-box;top: 0;bottom: 0;left: 50%;z-index: -1;}#sk-container-id-1 div.sk-parallel-item {display: flex;flex-direction: column;z-index: 1;position: relative;background-color: white;}#sk-container-id-1 div.sk-parallel-item:first-child::after {align-self: flex-end;width: 50%;}#sk-container-id-1 div.sk-parallel-item:last-child::after {align-self: flex-start;width: 50%;}#sk-container-id-1 div.sk-parallel-item:only-child::after {width: 0;}#sk-container-id-1 div.sk-dashed-wrapped {border: 1px dashed gray;margin: 0 0.4em 0.5em 0.4em;box-sizing: border-box;padding-bottom: 0.4em;background-color: white;}#sk-container-id-1 div.sk-label label {font-family: monospace;font-weight: bold;display: inline-block;line-height: 1.2em;}#sk-container-id-1 div.sk-label-container {text-align: center;}#sk-container-id-1 div.sk-container {/* jupyter's `normalize.less` sets `[hidden] { display: none; }` but bootstrap.min.css set `[hidden] { display: none !important; }` so we also need the `!important` here to be able to override the default hidden behavior on the sphinx rendered scikit-learn.org. See: https://github.com/scikit-learn/scikit-learn/issues/21755 */display: inline-block !important;position: relative;}#sk-container-id-1 div.sk-text-repr-fallback {display: none;}</style><div id=\"sk-container-id-1\" class=\"sk-top-container\"><div class=\"sk-text-repr-fallback\"><pre>LinearRegression()</pre><b>In a Jupyter environment, please rerun this cell to show the HTML representation or trust the notebook. <br />On GitHub, the HTML representation is unable to render, please try loading this page with nbviewer.org.</b></div><div class=\"sk-container\" hidden><div class=\"sk-item\"><div class=\"sk-estimator sk-toggleable\"><input class=\"sk-toggleable__control sk-hidden--visually\" id=\"sk-estimator-id-1\" type=\"checkbox\" checked><label for=\"sk-estimator-id-1\" class=\"sk-toggleable__label sk-toggleable__label-arrow\">LinearRegression</label><div class=\"sk-toggleable__content\"><pre>LinearRegression()</pre></div></div></div></div></div>"
            ],
            "text/plain": [
              "LinearRegression()"
            ]
          },
          "execution_count": 14,
          "metadata": {},
          "output_type": "execute_result"
        }
      ],
      "source": [
        "# Training the model\n",
        "model.fit(X_train, Y_train)"
      ]
    },
    {
      "cell_type": "code",
      "execution_count": 15,
      "metadata": {
        "colab": {
          "base_uri": "https://localhost:8080/"
        },
        "id": "3V4I56puts9G",
        "outputId": "5d0f18a1-ce3a-4a52-da9a-1243f6b2b005"
      },
      "outputs": [
        {
          "name": "stdout",
          "output_type": "stream",
          "text": [
            "First X in X_test : 1981\n",
            "Actual Y    : 29.32\n",
            "Predicted Y : 29.46693641559466\n"
          ]
        }
      ],
      "source": [
        "# Checking first test prediction\n",
        "print(f\"First X in X_test : {X_test[0]}\")\n",
        "\n",
        "# Scaling the X_test[0]\n",
        "scaled_X_test_0 = X_scalar.transform([[X_test[0]]])\n",
        "prediction = model.predict(scaled_X_test_0)\n",
        "\n",
        "# Inverse scaling the prediction\n",
        "prediction = Y_scalar.inverse_transform(prediction)\n",
        "\n",
        "print(f\"Actual Y    : {Y_test[0]}\")\n",
        "print(f\"Predicted Y : {prediction[0][0]}\")"
      ]
    },
    {
      "cell_type": "code",
      "execution_count": 16,
      "metadata": {
        "colab": {
          "base_uri": "https://localhost:8080/"
        },
        "id": "nsXtF7WZuhHa",
        "outputId": "fa1797c7-e7fa-4754-8b67-240dfb812958"
      },
      "outputs": [
        {
          "data": {
            "text/plain": [
              "array([[29.47, 29.32],\n",
              "       [29.1 , 29.16],\n",
              "       [29.67, 29.05],\n",
              "       [29.75, 29.75],\n",
              "       [29.87, 29.81],\n",
              "       [29.03, 28.84],\n",
              "       [29.01, 28.97],\n",
              "       [29.35, 29.31],\n",
              "       [28.95, 28.88],\n",
              "       [29.2 , 29.31],\n",
              "       [29.58, 29.14],\n",
              "       [29.91, 31.63],\n",
              "       [28.89, 28.71],\n",
              "       [29.53, 29.33],\n",
              "       [28.7 , 28.86],\n",
              "       [29.61, 29.23],\n",
              "       [29.25, 29.09],\n",
              "       [29.05, 28.73],\n",
              "       [29.16, 28.64],\n",
              "       [28.69, 28.76],\n",
              "       [28.6 , 28.67],\n",
              "       [28.74, 28.8 ],\n",
              "       [29.84, 30.13],\n",
              "       [29.44, 29.63]])"
            ]
          },
          "execution_count": 16,
          "metadata": {},
          "output_type": "execute_result"
        }
      ],
      "source": [
        "# Checking all predictions\n",
        "Y_pred = model.predict(X_scalar.transform(X_test.reshape(-1, 1)))\n",
        "\n",
        "Y_pred = Y_scalar.inverse_transform(Y_pred)\n",
        "np.concatenate((Y_pred.reshape(len(Y_pred), 1), Y_test.reshape(len(Y_test), 1)), 1)"
      ]
    },
    {
      "cell_type": "code",
      "execution_count": 17,
      "metadata": {
        "id": "AQTKx2r9spnm"
      },
      "outputs": [],
      "source": [
        "from sklearn.metrics import mean_squared_error, mean_absolute_error, r2_score\n",
        "\n",
        "# MSE\n",
        "mse = mean_squared_error(Y_pred, Y_test)\n",
        "\n",
        "# MAE\n",
        "mae = mean_absolute_error(Y_pred, Y_test)\n",
        "\n",
        "# R2 Score\n",
        "r2 = r2_score(Y_pred, Y_test)"
      ]
    },
    {
      "cell_type": "code",
      "execution_count": 18,
      "metadata": {
        "colab": {
          "base_uri": "https://localhost:8080/"
        },
        "id": "qWnICmJUtIR0",
        "outputId": "2f9aa828-dfbc-44b6-cb19-2f6c2064c124"
      },
      "outputs": [
        {
          "name": "stdout",
          "output_type": "stream",
          "text": [
            "Mean Squared Error  :  0.1829467997060649\n",
            "Mean Absolute Error :  0.2543052417368214\n",
            "R2 Score            :  -0.1895756243711033\n"
          ]
        }
      ],
      "source": [
        "print(f\"Mean Squared Error  :  {mse}\")\n",
        "print(f\"Mean Absolute Error :  {mae}\")\n",
        "print(f\"R2 Score            :  {r2}\")"
      ]
    },
    {
      "cell_type": "code",
      "execution_count": 19,
      "metadata": {
        "colab": {
          "base_uri": "https://localhost:8080/",
          "height": 806
        },
        "id": "P77Hn8C9tUAV",
        "outputId": "34d54101-bbfa-4bbb-ecca-72bba7fe4229"
      },
      "outputs": [
        {
          "data": {
            "image/png": "[encoded data removed]",
            "text/plain": [
              "<Figure size 1000x400 with 2 Axes>"
            ]
          },
          "metadata": {},
          "output_type": "display_data"
        }
      ],
      "source": [
        "from plot import plot\n",
        "\n",
        "# Visualize simple regression model\n",
        "\n",
        "X_train_pred = model.predict(X_train)\n",
        "X_test_pred = model.predict(X_scalar.transform(X_test.reshape(-1, 1)))\n",
        "\n",
        "X_train_ = X_scalar.inverse_transform(X_train)\n",
        "Y_train_ = Y_scalar.inverse_transform(Y_train)\n",
        "\n",
        "X_train_pred_ = Y_scalar.inverse_transform(X_train_pred)\n",
        "X_test_pred_ = Y_scalar.inverse_transform(X_test_pred)\n",
        "\n",
        "plot(\n",
        "    subtitle=\"Temp - Linear Regression\",\n",
        "    x_train=X_train_,\n",
        "    y_train=Y_train_,\n",
        "    x_test=X_test,\n",
        "    y_test=Y_test,\n",
        "    x_train_pred=X_train_pred_,\n",
        "    x_test_pred=X_test_pred_,\n",
        ")"
      ]
    },
    {
      "cell_type": "code",
      "execution_count": null,
      "metadata": {
        "id": "0DGFpyIVwVSh"
      },
      "outputs": [],
      "source": []
    }
  ],
  "metadata": {
    "colab": {
      "provenance": []
    },
    "kernelspec": {
      "display_name": "Python 3",
      "name": "python3"
    },
    "language_info": {
      "codemirror_mode": {
        "name": "ipython",
        "version": 3
      },
      "file_extension": ".py",
      "mimetype": "text/x-python",
      "name": "python",
      "nbconvert_exporter": "python",
      "pygments_lexer": "ipython3",
      "version": "3.11.4"
    }
  },
  "nbformat": 4,
  "nbformat_minor": 0
}
